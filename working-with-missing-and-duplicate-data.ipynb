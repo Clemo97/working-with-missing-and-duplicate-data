{
 "cells": [
  {
   "cell_type": "markdown",
   "metadata": {},
   "source": [
    "Missing or duplicate data may exist in a data set for a number of different reasons. Sometimes, missing or duplicate data is introduced as we perform cleaning and transformation tasks such as:\n",
    "<ul>\n",
    "    <li>Combining data</li>\n",
    "    <li>Reindexing data</li>\n",
    "    <li>Reshaping data</li>\n",
    "    </ul>\n",
    "    \n",
    "Other times, it exists in the original data set for reasons such as:\n",
    "<ul>\n",
    "    <li>User input error</li>\n",
    "    <li>Data storage or conversion issues</li>\n",
    "    </ul>\n",
    "    \n",
    "In the case of missing values, they may also exist in the original data set to purposely indicate that data is unavailable."
   ]
  },
  {
   "cell_type": "code",
   "execution_count": 3,
   "metadata": {},
   "outputs": [],
   "source": [
    "import pandas as pd\n",
    "import numpy as np\n",
    "import matplotlib.pyplot as plt\n",
    "\n",
    "wh_2015 = pd.read_csv(r'C:\\Users\\lumum\\Documents\\Data Projects\\working-with-missing-and-duplicate-data\\wh_2015.csv')\n",
    "wh_2016 = pd.read_csv(r'C:\\Users\\lumum\\Documents\\Data Projects\\working-with-missing-and-duplicate-data\\wh_2016.csv')\n",
    "wh_2017 = pd.read_csv(r'C:\\Users\\lumum\\Documents\\Data Projects\\working-with-missing-and-duplicate-data\\wh_2017.csv')"
   ]
  },
  {
   "cell_type": "code",
   "execution_count": 5,
   "metadata": {},
   "outputs": [],
   "source": [
    "shape_2015 = wh_2015.shape"
   ]
  },
  {
   "cell_type": "code",
   "execution_count": 6,
   "metadata": {},
   "outputs": [
    {
     "data": {
      "text/plain": [
       "(164, 13)"
      ]
     },
     "execution_count": 6,
     "metadata": {},
     "output_type": "execute_result"
    }
   ],
   "source": [
    "shape_2015"
   ]
  },
  {
   "cell_type": "code",
   "execution_count": 12,
   "metadata": {},
   "outputs": [
    {
     "data": {
      "text/html": [
       "<div>\n",
       "<style scoped>\n",
       "    .dataframe tbody tr th:only-of-type {\n",
       "        vertical-align: middle;\n",
       "    }\n",
       "\n",
       "    .dataframe tbody tr th {\n",
       "        vertical-align: top;\n",
       "    }\n",
       "\n",
       "    .dataframe thead th {\n",
       "        text-align: right;\n",
       "    }\n",
       "</style>\n",
       "<table border=\"1\" class=\"dataframe\">\n",
       "  <thead>\n",
       "    <tr style=\"text-align: right;\">\n",
       "      <th></th>\n",
       "      <th>Country</th>\n",
       "      <th>Region</th>\n",
       "      <th>Happiness Rank</th>\n",
       "      <th>Happiness Score</th>\n",
       "      <th>Standard Error</th>\n",
       "      <th>Economy (GDP per Capita)</th>\n",
       "      <th>Family</th>\n",
       "      <th>Health (Life Expectancy)</th>\n",
       "      <th>Freedom</th>\n",
       "      <th>Trust (Government Corruption)</th>\n",
       "      <th>Generosity</th>\n",
       "      <th>Dystopia Residual</th>\n",
       "      <th>Year</th>\n",
       "    </tr>\n",
       "  </thead>\n",
       "  <tbody>\n",
       "    <tr>\n",
       "      <td>158</td>\n",
       "      <td>Belize</td>\n",
       "      <td>NaN</td>\n",
       "      <td>NaN</td>\n",
       "      <td>NaN</td>\n",
       "      <td>NaN</td>\n",
       "      <td>NaN</td>\n",
       "      <td>NaN</td>\n",
       "      <td>NaN</td>\n",
       "      <td>NaN</td>\n",
       "      <td>NaN</td>\n",
       "      <td>NaN</td>\n",
       "      <td>NaN</td>\n",
       "      <td>2015</td>\n",
       "    </tr>\n",
       "    <tr>\n",
       "      <td>159</td>\n",
       "      <td>Namibia</td>\n",
       "      <td>NaN</td>\n",
       "      <td>NaN</td>\n",
       "      <td>NaN</td>\n",
       "      <td>NaN</td>\n",
       "      <td>NaN</td>\n",
       "      <td>NaN</td>\n",
       "      <td>NaN</td>\n",
       "      <td>NaN</td>\n",
       "      <td>NaN</td>\n",
       "      <td>NaN</td>\n",
       "      <td>NaN</td>\n",
       "      <td>2015</td>\n",
       "    </tr>\n",
       "    <tr>\n",
       "      <td>160</td>\n",
       "      <td>Puerto Rico</td>\n",
       "      <td>NaN</td>\n",
       "      <td>NaN</td>\n",
       "      <td>NaN</td>\n",
       "      <td>NaN</td>\n",
       "      <td>NaN</td>\n",
       "      <td>NaN</td>\n",
       "      <td>NaN</td>\n",
       "      <td>NaN</td>\n",
       "      <td>NaN</td>\n",
       "      <td>NaN</td>\n",
       "      <td>NaN</td>\n",
       "      <td>2015</td>\n",
       "    </tr>\n",
       "    <tr>\n",
       "      <td>161</td>\n",
       "      <td>Somalia</td>\n",
       "      <td>NaN</td>\n",
       "      <td>NaN</td>\n",
       "      <td>NaN</td>\n",
       "      <td>NaN</td>\n",
       "      <td>NaN</td>\n",
       "      <td>NaN</td>\n",
       "      <td>NaN</td>\n",
       "      <td>NaN</td>\n",
       "      <td>NaN</td>\n",
       "      <td>NaN</td>\n",
       "      <td>NaN</td>\n",
       "      <td>2015</td>\n",
       "    </tr>\n",
       "    <tr>\n",
       "      <td>162</td>\n",
       "      <td>Somaliland Region</td>\n",
       "      <td>NaN</td>\n",
       "      <td>NaN</td>\n",
       "      <td>NaN</td>\n",
       "      <td>NaN</td>\n",
       "      <td>NaN</td>\n",
       "      <td>NaN</td>\n",
       "      <td>NaN</td>\n",
       "      <td>NaN</td>\n",
       "      <td>NaN</td>\n",
       "      <td>NaN</td>\n",
       "      <td>NaN</td>\n",
       "      <td>2015</td>\n",
       "    </tr>\n",
       "    <tr>\n",
       "      <td>163</td>\n",
       "      <td>South Sudan</td>\n",
       "      <td>NaN</td>\n",
       "      <td>NaN</td>\n",
       "      <td>NaN</td>\n",
       "      <td>NaN</td>\n",
       "      <td>NaN</td>\n",
       "      <td>NaN</td>\n",
       "      <td>NaN</td>\n",
       "      <td>NaN</td>\n",
       "      <td>NaN</td>\n",
       "      <td>NaN</td>\n",
       "      <td>NaN</td>\n",
       "      <td>2015</td>\n",
       "    </tr>\n",
       "  </tbody>\n",
       "</table>\n",
       "</div>"
      ],
      "text/plain": [
       "               Country Region  Happiness Rank  Happiness Score  \\\n",
       "158             Belize    NaN             NaN              NaN   \n",
       "159            Namibia    NaN             NaN              NaN   \n",
       "160        Puerto Rico    NaN             NaN              NaN   \n",
       "161            Somalia    NaN             NaN              NaN   \n",
       "162  Somaliland Region    NaN             NaN              NaN   \n",
       "163        South Sudan    NaN             NaN              NaN   \n",
       "\n",
       "     Standard Error  Economy (GDP per Capita)  Family  \\\n",
       "158             NaN                       NaN     NaN   \n",
       "159             NaN                       NaN     NaN   \n",
       "160             NaN                       NaN     NaN   \n",
       "161             NaN                       NaN     NaN   \n",
       "162             NaN                       NaN     NaN   \n",
       "163             NaN                       NaN     NaN   \n",
       "\n",
       "     Health (Life Expectancy)  Freedom  Trust (Government Corruption)  \\\n",
       "158                       NaN      NaN                            NaN   \n",
       "159                       NaN      NaN                            NaN   \n",
       "160                       NaN      NaN                            NaN   \n",
       "161                       NaN      NaN                            NaN   \n",
       "162                       NaN      NaN                            NaN   \n",
       "163                       NaN      NaN                            NaN   \n",
       "\n",
       "     Generosity  Dystopia Residual  Year  \n",
       "158         NaN                NaN  2015  \n",
       "159         NaN                NaN  2015  \n",
       "160         NaN                NaN  2015  \n",
       "161         NaN                NaN  2015  \n",
       "162         NaN                NaN  2015  \n",
       "163         NaN                NaN  2015  "
      ]
     },
     "execution_count": 12,
     "metadata": {},
     "output_type": "execute_result"
    }
   ],
   "source": [
    "#use the series.isnull() method to identify rows with missing values.\n",
    "missing = wh_2015['Happiness Score'].isnull()\n",
    "#series.isnull() returns a boolean same sized object indicating if valeus are NA .NaN, gets mapped to True values\n",
    "wh_2015[missing]"
   ]
  },
  {
   "cell_type": "code",
   "execution_count": 15,
   "metadata": {},
   "outputs": [
    {
     "data": {
      "text/plain": [
       "Country                          0\n",
       "Happiness.Rank                   9\n",
       "Happiness.Score                  9\n",
       "Whisker.high                     9\n",
       "Whisker.low                      9\n",
       "Economy..GDP.per.Capita.         9\n",
       "Family                           9\n",
       "Health..Life.Expectancy.         9\n",
       "Freedom                          9\n",
       "Generosity                       9\n",
       "Trust..Government.Corruption.    9\n",
       "Dystopia.Residual                9\n",
       "Year                             0\n",
       "dtype: int64"
      ]
     },
     "execution_count": 15,
     "metadata": {},
     "output_type": "execute_result"
    }
   ],
   "source": [
    "# when working with bigger data sets, it's easier to get a summary of the missing values as follows:\n",
    "wh_2017.isnull().sum()"
   ]
  },
  {
   "cell_type": "markdown",
   "metadata": {},
   "source": [
    "I will use the following work flow to clean our missing values, starting from checking for errors:\n",
    "\n",
    "<ol type= \"1\">\n",
    "    <li>Check for errors in data cleaning/transformation.</li>\n",
    "    <li>Use data from additional sources to fill missing values.</li>\n",
    "    \n",
    "    </ol>"
   ]
  }
 ],
 "metadata": {
  "kernelspec": {
   "display_name": "Python 3",
   "language": "python",
   "name": "python3"
  },
  "language_info": {
   "codemirror_mode": {
    "name": "ipython",
    "version": 3
   },
   "file_extension": ".py",
   "mimetype": "text/x-python",
   "name": "python",
   "nbconvert_exporter": "python",
   "pygments_lexer": "ipython3",
   "version": "3.7.4"
  }
 },
 "nbformat": 4,
 "nbformat_minor": 2
}
