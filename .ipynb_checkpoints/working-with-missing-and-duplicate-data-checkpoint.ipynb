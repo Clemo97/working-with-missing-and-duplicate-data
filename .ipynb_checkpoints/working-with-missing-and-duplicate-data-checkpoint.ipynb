{
 "cells": [
  {
   "cell_type": "markdown",
   "metadata": {},
   "source": [
    "Missing or duplicate data may exist in a data set for a number of different reasons. Sometimes, missing or duplicate data is introduced as we perform cleaning and transformation tasks such as:\n",
    "<ul>\n",
    "    <li>Combining data</li>\n",
    "    <li>Reindexing data</li>\n",
    "    <li>Reshaping data</li>\n",
    "    </ul>\n",
    "    \n",
    "Other times, it exists in the original data set for reasons such as:\n",
    "<ul>\n",
    "    <li>User input error</li>\n",
    "    <li>Data storage or conversion issues</li>\n",
    "    </ul>\n",
    "    \n",
    "In the case of missing values, they may also exist in the original data set to purposely indicate that data is unavailable."
   ]
  },
  {
   "cell_type": "code",
   "execution_count": 3,
   "metadata": {},
   "outputs": [],
   "source": [
    "import pandas as pd\n",
    "import numpy as np\n",
    "import matplotlib.pyplot as plt\n",
    "\n",
    "wh_2015 = pd.read_csv(r'C:\\Users\\lumum\\Documents\\Data Projects\\working-with-missing-and-duplicate-data\\wh_2015.csv')\n",
    "wh_2016 = pd.read_csv(r'C:\\Users\\lumum\\Documents\\Data Projects\\working-with-missing-and-duplicate-data\\wh_2016.csv')\n",
    "wh_2017 = pd.read_csv(r'C:\\Users\\lumum\\Documents\\Data Projects\\working-with-missing-and-duplicate-data\\wh_2017.csv')"
   ]
  },
  {
   "cell_type": "code",
   "execution_count": 5,
   "metadata": {},
   "outputs": [],
   "source": [
    "shape_2015 = wh_2015.shape"
   ]
  },
  {
   "cell_type": "code",
   "execution_count": 6,
   "metadata": {},
   "outputs": [
    {
     "data": {
      "text/plain": [
       "(164, 13)"
      ]
     },
     "execution_count": 6,
     "metadata": {},
     "output_type": "execute_result"
    }
   ],
   "source": [
    "shape_2015"
   ]
  },
  {
   "cell_type": "code",
   "execution_count": null,
   "metadata": {},
   "outputs": [],
   "source": []
  }
 ],
 "metadata": {
  "kernelspec": {
   "display_name": "Python 3",
   "language": "python",
   "name": "python3"
  },
  "language_info": {
   "codemirror_mode": {
    "name": "ipython",
    "version": 3
   },
   "file_extension": ".py",
   "mimetype": "text/x-python",
   "name": "python",
   "nbconvert_exporter": "python",
   "pygments_lexer": "ipython3",
   "version": "3.7.4"
  }
 },
 "nbformat": 4,
 "nbformat_minor": 2
}
